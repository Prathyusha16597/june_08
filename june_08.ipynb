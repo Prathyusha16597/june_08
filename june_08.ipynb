{
 "cells": [
  {
   "cell_type": "code",
   "execution_count": 1,
   "id": "a630f9ae",
   "metadata": {},
   "outputs": [
    {
     "name": "stdout",
     "output_type": "stream",
     "text": [
      "[0, 2, 4, 6, 8, 10, 12, 14, 16, 18, 20]\n"
     ]
    }
   ],
   "source": [
    "list1=[x for x in  range(21) if x%2==0]\n",
    "print(list1)"
   ]
  },
  {
   "cell_type": "code",
   "execution_count": 3,
   "id": "448d00bc",
   "metadata": {},
   "outputs": [
    {
     "name": "stdout",
     "output_type": "stream",
     "text": [
      "['klaus', 'rick', 'kole', 'kai']\n"
     ]
    }
   ],
   "source": [
    "names=[\"klaus\",\"damon\",'rick','matt','kole','kai','stefan']\n",
    "name=[s for s in names if 'k' in s]\n",
    "print(name)"
   ]
  },
  {
   "cell_type": "code",
   "execution_count": 4,
   "id": "f4a4e4eb",
   "metadata": {},
   "outputs": [
    {
     "name": "stdout",
     "output_type": "stream",
     "text": [
      "[(1, 4), (1, 5), (1, 6), (2, 4), (2, 5), (2, 6), (3, 4), (3, 5), (3, 6)]\n"
     ]
    }
   ],
   "source": [
    "num1=[1,2,3]\n",
    "num2=[4,5,6]\n",
    "num=[(x,y) for x in num1 for y in num2]\n",
    "print(num)"
   ]
  },
  {
   "cell_type": "code",
   "execution_count": 5,
   "id": "1ca2d47e",
   "metadata": {},
   "outputs": [
    {
     "name": "stdout",
     "output_type": "stream",
     "text": [
      "[0, 10, 20]\n"
     ]
    }
   ],
   "source": [
    "nums = [x for x in range(21) if x%2==0 if x%5==0] \n",
    "print(nums)"
   ]
  },
  {
   "cell_type": "code",
   "execution_count": 6,
   "id": "2052d705",
   "metadata": {},
   "outputs": [
    {
     "name": "stdout",
     "output_type": "stream",
     "text": [
      "['Even', 'Odd', 'Even', 'Odd', 'Even']\n",
      "['0=Even', '1=Odd', '2=Even', '3=Odd', '4=Even']\n"
     ]
    }
   ],
   "source": [
    "odd_even_list = [\"Even\" if i%2==0 else \"Odd\" for i in range(5)]\n",
    "print(odd_even_list)\n",
    "odd_even_list = [str(i) + '=Even' if i%2==0 else str(i) + \"=Odd\" for i in range(5)]\n",
    "print(odd_even_list)"
   ]
  },
  {
   "cell_type": "code",
   "execution_count": 22,
   "id": "295f33ad",
   "metadata": {},
   "outputs": [
    {
     "name": "stdout",
     "output_type": "stream",
     "text": [
      "[1, 2, 3, 4, 5, 6, 7, 8, 9, 'p', 'r', 'a', 't', 'h', 'y', 'u', 's', 'h', 'a']\n"
     ]
    }
   ],
   "source": [
    "matrix=[[1, 2, 3], [4, 5, 6], [7, 8, 9],'prathyusha']\n",
    "flatList=[num for row in matrix for num in row ]\n",
    "print(flatList)"
   ]
  },
  {
   "cell_type": "code",
   "execution_count": 12,
   "id": "af03d998",
   "metadata": {},
   "outputs": [
    {
     "name": "stdout",
     "output_type": "stream",
     "text": [
      "['__abs__', '__add__', '__and__', '__bool__', '__ceil__', '__class__', '__delattr__', '__dir__', '__divmod__', '__doc__', '__eq__', '__float__', '__floor__', '__floordiv__', '__format__', '__ge__', '__getattribute__', '__getnewargs__', '__gt__', '__hash__', '__index__', '__init__', '__init_subclass__', '__int__', '__invert__', '__le__', '__lshift__', '__lt__', '__mod__', '__mul__', '__ne__', '__neg__', '__new__', '__or__', '__pos__', '__pow__', '__radd__', '__rand__', '__rdivmod__', '__reduce__', '__reduce_ex__', '__repr__', '__rfloordiv__', '__rlshift__', '__rmod__', '__rmul__', '__ror__', '__round__', '__rpow__', '__rrshift__', '__rshift__', '__rsub__', '__rtruediv__', '__rxor__', '__setattr__', '__sizeof__', '__str__', '__sub__', '__subclasshook__', '__truediv__', '__trunc__', '__xor__', 'as_integer_ratio', 'bit_length', 'conjugate', 'denominator', 'from_bytes', 'imag', 'numerator', 'real', 'to_bytes']\n"
     ]
    }
   ],
   "source": [
    "perfectNum = 7\n",
    "\n",
    "print(dir(perfectNum))"
   ]
  },
  {
   "cell_type": "code",
   "execution_count": 13,
   "id": "f054febb",
   "metadata": {},
   "outputs": [
    {
     "name": "stdout",
     "output_type": "stream",
     "text": [
      "['__abs__', '__add__', '__and__', '__bool__', '__ceil__', '__class__', '__delattr__', '__dir__', '__divmod__', '__doc__', '__eq__', '__float__', '__floor__', '__floordiv__', '__format__', '__ge__', '__getattribute__', '__getnewargs__', '__gt__', '__hash__', '__index__', '__init__', '__init_subclass__', '__int__', '__invert__', '__le__', '__lshift__', '__lt__', '__mod__', '__mul__', '__ne__', '__neg__', '__new__', '__or__', '__pos__', '__pow__', '__radd__', '__rand__', '__rdivmod__', '__reduce__', '__reduce_ex__', '__repr__', '__rfloordiv__', '__rlshift__', '__rmod__', '__rmul__', '__ror__', '__round__', '__rpow__', '__rrshift__', '__rshift__', '__rsub__', '__rtruediv__', '__rxor__', '__setattr__', '__sizeof__', '__str__', '__sub__', '__subclasshook__', '__truediv__', '__trunc__', '__xor__', 'as_integer_ratio', 'bit_length', 'conjugate', 'denominator', 'from_bytes', 'imag', 'numerator', 'real', 'to_bytes']\n"
     ]
    }
   ],
   "source": [
    "print(dir(3))"
   ]
  },
  {
   "cell_type": "code",
   "execution_count": 23,
   "id": "65eb47ba",
   "metadata": {},
   "outputs": [
    {
     "name": "stdout",
     "output_type": "stream",
     "text": [
      "4.89\n"
     ]
    }
   ],
   "source": [
    "print(abs(4.89))"
   ]
  },
  {
   "cell_type": "code",
   "execution_count": 28,
   "id": "88bc54ab",
   "metadata": {},
   "outputs": [
    {
     "name": "stdout",
     "output_type": "stream",
     "text": [
      "(3, [56, 5], 3)\n",
      "['__add__', '__class__', '__contains__', '__delattr__', '__dir__', '__doc__', '__eq__', '__format__', '__ge__', '__getattribute__', '__getitem__', '__getnewargs__', '__gt__', '__hash__', '__init__', '__init_subclass__', '__iter__', '__le__', '__len__', '__lt__', '__mul__', '__ne__', '__new__', '__reduce__', '__reduce_ex__', '__repr__', '__rmul__', '__setattr__', '__sizeof__', '__str__', '__subclasshook__', 'count', 'index']\n"
     ]
    }
   ],
   "source": [
    "s=(3,[56,5],3)\n",
    "print(s)\n",
    "print(dir(s))"
   ]
  },
  {
   "cell_type": "code",
   "execution_count": 3,
   "id": "58a932f8",
   "metadata": {},
   "outputs": [
    {
     "name": "stdout",
     "output_type": "stream",
     "text": [
      "Enter the number : 90234567\n",
      "90234567\n",
      "it is LARGE Number\n"
     ]
    }
   ],
   "source": [
    "# input a number and display one of the following\n",
    "#    it is a SINGLE digit number ::: if it is 1 to 9\n",
    "#    it is DOUBLE digit number ::: if it is 10 to 99\n",
    "#    and so on...\n",
    "#    do it till SIX digit number\n",
    "#    if number is above SIX digits then display this number is LARGE number\n",
    "#    NOTE\n",
    "#    if the user inputs a NEGATIVE number then - donot do the above processing\n",
    "#    instead display :: cannot process NEGATIVE numbers\n",
    "\n",
    "class Number:\n",
    "    def __init__(self):\n",
    "        pass\n",
    "    def input_values(self):\n",
    "        while True:\n",
    "            try:\n",
    "                self.n1=int(input(\"Enter the number : \"))\n",
    "                print(self.n1)\n",
    "                break\n",
    "            except:\n",
    "                print(\"Enter a  Only Integer Value\")\n",
    "    def claculation(self):\n",
    "        if 1<=self.n1<=9:\n",
    "            print(\"it is SINGLE digit Number\")\n",
    "        elif 10<=self.n1<=99:\n",
    "            print(\"it is DOUBLE digit Number\")\n",
    "        elif 100<=self.n1<=999:\n",
    "            print(\"it is THREE digit Number\")\n",
    "        elif 1000<=self.n1<=9999:\n",
    "            print(\"it is FOUR digit Number\")\n",
    "        elif 10000<=self.n1<=99999:\n",
    "            print(\"it is a FIVE digit Number\")\n",
    "        elif 100000<=self.n1<=999999:\n",
    "            print(\"it is SIX diit Number\")\n",
    "        elif self.n1>=1000000:\n",
    "            print(\"it is LARGE Number\")\n",
    "        else:\n",
    "            if self.n1<=0:\n",
    "                print(\"cannot process NEGATIVE numbers\")\n",
    "        \n",
    "n=Number()\n",
    "n.input_values()\n",
    "n.claculation()\n",
    "            "
   ]
  },
  {
   "cell_type": "code",
   "execution_count": 1,
   "id": "1fee94b5",
   "metadata": {},
   "outputs": [
    {
     "name": "stdout",
     "output_type": "stream",
     "text": [
      "Enter a String : prathyusha kethireddy\n",
      "['prathyusha', 'kethireddy']\n",
      "PK"
     ]
    }
   ],
   "source": [
    "# enter a string say Indian Administrative Service\n",
    "#    o/p should be IAS\n",
    "#    hint use split, list to do this.\n",
    "#    Note if the string is one word - Hello\n",
    "#    then o/p should be Hello\n",
    "class String:\n",
    "    def input_a_str(self):\n",
    "        self.str1=input(\"Enter a String : \")\n",
    "        self.sp=self.str1.split(\" \")\n",
    "        print(self.sp)\n",
    "    def calculation(self):\n",
    "        for i in range(0,len(self.sp)):\n",
    "            if len(self.sp)==1:\n",
    "                if self.str1.isalpha():\n",
    "                    s=str(self.str1)\n",
    "                    print(s)\n",
    "            else:\n",
    "                if self.str1[0].isalpha():\n",
    "                    p=self.sp[i][0]\n",
    "                    print(p.upper(),end=\"\")\n",
    "s=String()\n",
    "s.input_a_str()\n",
    "s.calculation()       "
   ]
  },
  {
   "cell_type": "code",
   "execution_count": 1,
   "id": "ae7e6d9a",
   "metadata": {},
   "outputs": [
    {
     "name": "stdout",
     "output_type": "stream",
     "text": [
      "Enter a ROLL Number :  101\n",
      "Enter a Student Name : Arjun\n",
      "Enter a Student Average : 78\n",
      "Enter a ROLL Number :  102\n",
      "Enter a Student Name : Klaus\n",
      "Enter a Student Average : 56.5\n",
      "Enter a ROLL Number :  103\n",
      "Enter a Student Name : stefan\n",
      "Enter a Student Average : 39\n",
      "Enter a ROLL Number :  104\n",
      "Enter a Student Name : Rick\n",
      "Enter a Student Average : 56\n",
      "Enter a ROLL Number :  105\n",
      "Enter a Student Name : kai\n",
      "Enter a Student Average : 20\n",
      "Enter a ROLL Number :  0\n",
      "{101: ['Arjun', 78.0], 102: ['Klaus', 56.5], 103: ['stefan', 39.0], 104: ['Rick', 56.0], 105: ['kai', 20.0]}\n",
      "Your are Distinction\n",
      "Your are Second Class\n",
      "Your are Faill\n",
      "Your are Second Class\n",
      "Your are Faill\n"
     ]
    }
   ],
   "source": [
    "# use dict for this , OOPS concept should be implemented\n",
    "#    here\n",
    "#    input roll,name,avg. roll is the Key and value\n",
    "#    is name,avg and result - say as list\n",
    "#    compute the result based on avg as following :\n",
    "#    1-39 - Fail\n",
    "#    40-49 - Pass\n",
    "\n",
    "#    50-59 - Second class\n",
    "#    60-74- First class\n",
    "#    75-89 - distinction\n",
    "#    90 and above - High Distinction\n",
    "#    have methods like \n",
    "#    input_data()\n",
    "#    process_avg()\n",
    "#    display_all_details()\n",
    "#    etc\n",
    "#    Find out how many candidates secures more than class\n",
    "#    avg.\n",
    "#    display the student details who has highest and second highest\n",
    "#    avg\n",
    "class StudentAverage:\n",
    "    def input_values(self):\n",
    "        self.student={}\n",
    "        while True:\n",
    "            try:\n",
    "                self.roll=int(input(\"Enter a ROLL Number :  \"))\n",
    "                if self.roll==0:\n",
    "                    break\n",
    "                \n",
    "            except:\n",
    "                print(\"Enter Only Integer Values \")\n",
    "            self.name=input(\"Enter a Student Name : \")\n",
    "            self.avg=float(input(\"Enter a Student Average : \"))\n",
    "            self.student.update({self.roll:[self.name,self.avg]})\n",
    "        print(self.student)\n",
    "    def process_avg(self):\n",
    "        self.Names=[]\n",
    "        self.Avg=[]\n",
    "        for k,v in self.student.items():\n",
    "            self.Names.append(v[0])\n",
    "            self.Avg.append(v[1])\n",
    "        for avg in self.Avg:\n",
    "            if 1<=avg<=39:\n",
    "                print(\"Your are Faill\")\n",
    "            elif 40<=avg<=49:\n",
    "                print(\"Your are Pass\")\n",
    "            elif 50<avg<=59:\n",
    "                print(\"Your are Second Class\")\n",
    "            elif 60<=avg<=74:\n",
    "                print(\"Your are First Class\")\n",
    "            elif 75<=avg<=89:\n",
    "                print(\"Your are Distinction\")\n",
    "            elif avg>=90:\n",
    "                print(\"Your are High Distinction\")\n",
    "        s=sum(self.Avg)\n",
    "        ln=len()\n",
    "s=StudentAverage()\n",
    "s.input_values()\n",
    "s.process_avg()\n",
    "        \n",
    "        \n",
    "            "
   ]
  },
  {
   "cell_type": "code",
   "execution_count": 7,
   "id": "df41b4e6",
   "metadata": {},
   "outputs": [
    {
     "name": "stdout",
     "output_type": "stream",
     "text": [
      "Enter a Number : 45.5\n",
      "45.5\n",
      "46.5\n",
      "47.5\n",
      "48.5\n",
      "49.5\n",
      "Sum is :  237.5\n"
     ]
    }
   ],
   "source": [
    "s=0\n",
    "n=float(input(\"Enter a Number : \"))\n",
    "for i in range(1,6):\n",
    "    print(n)\n",
    "    s=s+n\n",
    "    n=n+1\n",
    "print(\"Sum is : \",s)"
   ]
  },
  {
   "cell_type": "code",
   "execution_count": null,
   "id": "826a3b7d",
   "metadata": {},
   "outputs": [],
   "source": []
  }
 ],
 "metadata": {
  "kernelspec": {
   "display_name": "Python 3",
   "language": "python",
   "name": "python3"
  },
  "language_info": {
   "codemirror_mode": {
    "name": "ipython",
    "version": 3
   },
   "file_extension": ".py",
   "mimetype": "text/x-python",
   "name": "python",
   "nbconvert_exporter": "python",
   "pygments_lexer": "ipython3",
   "version": "3.8.8"
  }
 },
 "nbformat": 4,
 "nbformat_minor": 5
}
